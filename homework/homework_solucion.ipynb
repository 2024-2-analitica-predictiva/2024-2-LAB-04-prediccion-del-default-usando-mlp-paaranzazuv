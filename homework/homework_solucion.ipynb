{
 "cells": [
  {
   "cell_type": "code",
   "execution_count": 1,
   "metadata": {},
   "outputs": [],
   "source": [
    "import pandas as pd\n",
    "import numpy as np\n",
    "import pickle\n",
    "import os\n",
    "import pickle\n",
    "from sklearn.model_selection import train_test_split\n",
    "from sklearn.model_selection import GridSearchCV, ParameterGrid\n",
    "from sklearn.metrics import confusion_matrix\n",
    "from sklearn.pipeline import Pipeline\n",
    "from sklearn.linear_model import LogisticRegression\n",
    "from sklearn.preprocessing import StandardScaler\n",
    "from sklearn.metrics import make_scorer, balanced_accuracy_score\n",
    "from sklearn.compose import ColumnTransformer\n",
    "from sklearn.preprocessing import MinMaxScaler\n",
    "from sklearn.feature_selection import SelectKBest, f_classif\n",
    "from sklearn.preprocessing import OneHotEncoder\n",
    "from tqdm import tqdm\n",
    "import json\n",
    "from sklearn.metrics import precision_score, balanced_accuracy_score, recall_score, f1_score\n",
    "import gzip\n",
    "import joblib"
   ]
  },
  {
   "cell_type": "code",
   "execution_count": 2,
   "metadata": {},
   "outputs": [],
   "source": [
    "ruta_train = '../files/input/train_data.csv.zip'\n",
    "ruta_test = \"../files/input/test_data.csv.zip\"\n",
    "\n",
    "ruta_guardado = \"files/models/model.pkl\"\n",
    "ruta_output = \"files/output/metrics.json\"\n",
    "\n",
    "#ruta_datos_x_test = \"files/grading/x_test.pkl\"\n",
    "#ruta_datos_y_test=\"files/grading/y_test.pkl\"\n",
    "#ruta_datos_x_train=\"files/grading/x_train.pkl\"\n",
    "#ruta_datos_y_train=\"files/grading/y_train.pkl\""
   ]
  },
  {
   "cell_type": "code",
   "execution_count": 3,
   "metadata": {},
   "outputs": [],
   "source": [
    "def read(ruta): \n",
    "  \n",
    "    df = pd.read_csv(ruta, compression='zip')\n",
    " \n",
    "    return df\n"
   ]
  },
  {
   "cell_type": "code",
   "execution_count": 4,
   "metadata": {},
   "outputs": [],
   "source": [
    "df_train = read(ruta_train)\n",
    "df_test = read(ruta_test)"
   ]
  },
  {
   "cell_type": "code",
   "execution_count": 5,
   "metadata": {},
   "outputs": [],
   "source": [
    "def clear(df):\n",
    "    \n",
    "    df = df.copy()\n",
    "# - Renombre la columna \"default payment next month\" a \"default\".\n",
    "    df = df.rename(columns={\"default payment next month\":\"default\"})\n",
    "# - Remueva la columna \"ID\".\n",
    "    df = df.drop(columns=[\"ID\"])\n",
    "# - Elimine los registros con informacion no disponible.\n",
    "    df = df.dropna()\n",
    "# - Para la columna EDUCATION, valores > 4 indican niveles superiores\n",
    "#   de educación, agrupe estos valores en la categoría \"others\".  \n",
    "    df['EDUCATION'] = np.where(df['EDUCATION'] > 4, 4, df['EDUCATION'])\n",
    "    df = df.loc[df['EDUCATION'] != 0]\n",
    "    df = df.loc[df['MARRIAGE'] != 0]\n",
    "## redefinir las columnas categoricas \n",
    "    #df[\"SEX\"] = df[\"SEX\"].map({1: \"male\", 2: \"female\"},)\n",
    "    #df[\"EDUCATION\"] = df[\"EDUCATION\"].map({ 0:\"N/A\", 1:\"graduate school\", 2:\"university\", 3:\"high school\", 4:\"others\"},)\n",
    "    #df[\"MARRIAGE\"] = df[\"MARRIAGE\"].map({ 0:\"N/A\", 1:\"married\", 2:\"single\", 3:\"others\"},)\n",
    "\n",
    "    return df"
   ]
  },
  {
   "cell_type": "code",
   "execution_count": 6,
   "metadata": {},
   "outputs": [
    {
     "name": "stdout",
     "output_type": "stream",
     "text": [
      "EDUCATION\n",
      "2    9756\n",
      "1    7476\n",
      "3    3396\n",
      "4     325\n",
      "Name: count, dtype: int64\n",
      "MARRIAGE\n",
      "2    11226\n",
      "1     9502\n",
      "3      225\n",
      "Name: count, dtype: int64\n",
      "EDUCATION\n",
      "2    4268\n",
      "1    3105\n",
      "3    1477\n",
      "4     129\n",
      "Name: count, dtype: int64\n",
      "MARRIAGE\n",
      "2    4728\n",
      "1    4153\n",
      "3      98\n",
      "Name: count, dtype: int64\n"
     ]
    }
   ],
   "source": [
    "df_train = clear(df_train)\n",
    "df_test=clear(df_test)\n",
    "print(df_train[\"EDUCATION\"].value_counts())\n",
    "print(df_train[\"MARRIAGE\"].value_counts())\n",
    "print(df_test[\"EDUCATION\"].value_counts())\n",
    "print(df_test[\"MARRIAGE\"].value_counts())"
   ]
  },
  {
   "cell_type": "code",
   "execution_count": 7,
   "metadata": {},
   "outputs": [],
   "source": [
    "def dividr_datos(df):\n",
    "    df = df.copy()\n",
    "    X=df.drop(columns=[\"default\"])\n",
    "    y=df[\"default\"]\n",
    "    return  X,y"
   ]
  },
  {
   "cell_type": "code",
   "execution_count": 8,
   "metadata": {},
   "outputs": [],
   "source": [
    "x_train, y_train=dividr_datos(df_train)\n",
    "x_test, y_test= dividr_datos(df_test)"
   ]
  },
  {
   "cell_type": "code",
   "execution_count": 53,
   "metadata": {},
   "outputs": [
    {
     "name": "stdout",
     "output_type": "stream",
     "text": [
      "Mejores parámetros encontrados: {'classifier__activation': 'relu', 'classifier__alpha': 0.5, 'classifier__hidden_layer_sizes': (100, 50, 100, 50, 100, 100), 'classifier__learning_rate_init': 0.0003, 'feature_selection__k': 20}\n",
      "Mejor puntuación de validación cruzada: 0.6503162685675925\n",
      "Precisión balanceada en el conjunto de prueba: 0.6640888372438779\n",
      "0.6964705882352941\n"
     ]
    }
   ],
   "source": [
    "from sklearn.compose import ColumnTransformer\n",
    "from sklearn.preprocessing import OneHotEncoder, MinMaxScaler\n",
    "from sklearn.decomposition import PCA\n",
    "from sklearn.feature_selection import SelectKBest, f_classif\n",
    "from sklearn.neural_network import MLPClassifier\n",
    "from sklearn.pipeline import Pipeline\n",
    "from sklearn.model_selection import GridSearchCV\n",
    "from sklearn.metrics import make_scorer, balanced_accuracy_score\n",
    "\n",
    "# Columnas categóricas y numéricas\n",
    "categorical_columns = ['SEX', 'EDUCATION', 'MARRIAGE']\n",
    "numerical_features = [col for col in x_train if col not in categorical_columns]\n",
    "\n",
    "# Preprocesamiento\n",
    "preprocessor = ColumnTransformer(\n",
    "    transformers=[\n",
    "        ('cat', OneHotEncoder(), categorical_columns),  # One-Hot Encoding\n",
    "        ('scaler', StandardScaler(), numerical_features),  # Escalar al rango [0, 1]\n",
    "    ]\n",
    ")\n",
    "\n",
    "# Pipeline\n",
    "pipeline = Pipeline([\n",
    "    ('preprocessor', preprocessor),\n",
    "    ('pca', PCA(n_components=None)),  # PCA con todas las componentes\n",
    "    ('feature_selection', SelectKBest(score_func=f_classif)),  # Selección de características\n",
    "    ('classifier', MLPClassifier(random_state=42, max_iter=1000))  # Red neuronal MLP\n",
    "])\n",
    "\n",
    "# Definir la búsqueda de hiperparámetros\n",
    "param_grid = {\n",
    "    # Parámetros para SelectKBest\n",
    "    'feature_selection__k': [20],  # Número de características a seleccionar\n",
    "    \n",
    "    # Parámetros para MLPClassifier\n",
    "    'classifier__hidden_layer_sizes': [(100,50,100,50,100,100), ],  # Tamaño de capas ocultas\n",
    "    'classifier__activation': ['relu'],  # Función de activación\n",
    "    #'classifier__solver': ['adam', 'sgd'],  # Optimizadores\n",
    "    'classifier__alpha': [0.5],  # Regularización L2\n",
    "    #'classifier__early_stopping':[True],\n",
    "    'classifier__learning_rate_init': [ 0.0003]\n",
    "\n",
    "    \n",
    "}\n",
    "\n",
    "# Configurar la métrica de precisión balanceada\n",
    "scorer = make_scorer(balanced_accuracy_score)\n",
    "\n",
    "# Crear el objeto de búsqueda\n",
    "grid_search = GridSearchCV(\n",
    "    pipeline, \n",
    "    param_grid, \n",
    "    cv=10, \n",
    "    scoring=scorer, \n",
    "    n_jobs=-1,\n",
    "    refit=True,\n",
    ")\n",
    "\n",
    "# Ajustar el modelo\n",
    "modelo = grid_search.fit(x_train, y_train)\n",
    "\n",
    "# Resultados\n",
    "print(\"Mejores parámetros encontrados:\", grid_search.best_params_)\n",
    "print(\"Mejor puntuación de validación cruzada:\", grid_search.best_score_)\n",
    "\n",
    "# Evaluar el modelo en el conjunto de prueba\n",
    "y_pred = grid_search.best_estimator_.predict(x_train)\n",
    "test_score = balanced_accuracy_score(y_train, y_pred)\n",
    "print(\"Precisión balanceada en el conjunto de prueba:\", test_score)\n",
    "\n",
    "print(precision_score(y_train, y_pred, zero_division=0))\n"
   ]
  },
  {
   "cell_type": "code",
   "execution_count": 54,
   "metadata": {},
   "outputs": [],
   "source": [
    "ruta_guardado = \"../files/models/model.pkl.gz\"\n",
    "\n",
    "# Asegúrate de que el directorio existe\n",
    "ruta_guardado_carpeta = os.path.dirname(ruta_guardado)\n",
    "os.makedirs(ruta_guardado_carpeta, exist_ok=True)\n",
    "\n",
    "# Guarda el modelo\n",
    "with gzip.open(ruta_guardado, 'wb') as f:\n",
    "    pickle.dump(grid_search, f)"
   ]
  },
  {
   "cell_type": "code",
   "execution_count": 55,
   "metadata": {},
   "outputs": [],
   "source": [
    "def calculate_and_save_metrics(model, X_train, X_test, y_train, y_test):\n",
    "    # Hacer predicciones\n",
    "    y_train_pred = model.predict(X_train)\n",
    "    y_test_pred = model.predict(X_test)\n",
    "\n",
    "    # Calcular métricas para el conjunto de entrenamiento\n",
    "    metrics_train = {\n",
    "        'type': 'metrics',\n",
    "        'dataset': 'train',\n",
    "        'precision': precision_score(y_train, y_train_pred, zero_division=0),\n",
    "        'balanced_accuracy': balanced_accuracy_score(y_train, y_train_pred),\n",
    "        'recall': recall_score(y_train, y_train_pred, zero_division=0),\n",
    "        'f1_score': f1_score(y_train, y_train_pred, zero_division=0)\n",
    "    }\n",
    "\n",
    "    # Calcular métricas para el conjunto de prueba\n",
    "    metrics_test = {\n",
    "        'type': 'metrics',\n",
    "        'dataset': 'test',\n",
    "        'precision': precision_score(y_test, y_test_pred, zero_division=0),\n",
    "        'balanced_accuracy': balanced_accuracy_score(y_test, y_test_pred),\n",
    "        'recall': recall_score(y_test, y_test_pred, zero_division=0),\n",
    "        'f1_score': f1_score(y_test, y_test_pred, zero_division=0)\n",
    "    }\n",
    "\n",
    "    # Crear carpeta si no existe\n",
    "    output_dir = '../files/output'\n",
    "    os.makedirs(output_dir, exist_ok=True)\n",
    "\n",
    "    # Guardar las métricas en un archivo JSON\n",
    "    output_path = os.path.join(output_dir, 'metrics.json')\n",
    "    with open(output_path, 'w') as f:  # Usar 'w' para comenzar con un archivo limpio\n",
    "        f.write(json.dumps(metrics_train) + '\\n')\n",
    "        f.write(json.dumps(metrics_test) + '\\n')\n"
   ]
  },
  {
   "cell_type": "code",
   "execution_count": 56,
   "metadata": {},
   "outputs": [],
   "source": [
    "def calculate_and_save_confusion_matrices(model, X_train, X_test, y_train, y_test):\n",
    "    # Hacer predicciones\n",
    "    y_train_pred = modelo.predict(x_train)\n",
    "    y_test_pred = modelo.predict(x_test)\n",
    "\n",
    "    # Calcular matrices de confusión\n",
    "    cm_train = confusion_matrix(y_train, y_train_pred)\n",
    "    cm_test = confusion_matrix(y_test, y_test_pred)\n",
    "\n",
    "    # Convertir las matrices de confusión en formato JSON\n",
    "    def format_confusion_matrix(cm, dataset_type):\n",
    "        return {\n",
    "            'type': 'cm_matrix',\n",
    "            'dataset': dataset_type,\n",
    "            'true_0': {\n",
    "                'predicted_0': int(cm[0, 0]),\n",
    "                'predicted_1': int(cm[0, 1])\n",
    "            },\n",
    "            'true_1': {\n",
    "                'predicted_0': int(cm[1, 0]),\n",
    "                'predicted_1': int(cm[1, 1])\n",
    "            }\n",
    "        }\n",
    "\n",
    "    metrics = [\n",
    "        format_confusion_matrix(cm_train, 'train'),\n",
    "        format_confusion_matrix(cm_test, 'test')\n",
    "    ]\n",
    "\n",
    "    # Guardar las matrices de confusión en el mismo archivo JSON\n",
    "    output_path = '../files/output/metrics.json'\n",
    "    with open(output_path, 'a') as f:  # Usar 'a' para agregar después de las métricas\n",
    "        for metric in metrics:\n",
    "            f.write(json.dumps(metric) + '\\n')\n",
    "\n",
    "# Función principal para ejecutar todo\n",
    "def main(modelo, X_train, X_test, y_train, y_test):\n",
    "    # Crear el directorio de salida si no existe\n",
    "    import os\n",
    "    os.makedirs('../files/output', exist_ok=True)\n",
    "\n",
    "    # Calcular y guardar las métricas\n",
    "    calculate_and_save_metrics(modelo, X_train, X_test, y_train, y_test)\n",
    "\n",
    "    # Calcular y guardar las matrices de confusión\n",
    "    calculate_and_save_confusion_matrices(modelo, X_train, X_test, y_train, y_test)\n",
    "\n",
    "# Ejemplo de uso:\n",
    "main(modelo, x_train, x_test, y_train, y_test)\n"
   ]
  },
  {
   "cell_type": "code",
   "execution_count": 21,
   "metadata": {},
   "outputs": [],
   "source": [
    "def _load_model():\n",
    "    ruta_guardado = \"../files/models/model.pkl.gz\"\n",
    "    with gzip.open(ruta_guardado, 'rb') as f:\n",
    "        model=joblib.load(f)\n",
    "        return model\n"
   ]
  },
  {
   "cell_type": "code",
   "execution_count": null,
   "metadata": {},
   "outputs": [],
   "source": [
    "model = _load_model()\n",
    "print(type(model))  # Asegúrate de que sea <class 'GridSearchCV'>\n"
   ]
  },
  {
   "cell_type": "code",
   "execution_count": 23,
   "metadata": {},
   "outputs": [],
   "source": [
    "def _load_model():\n",
    "    ruta_guardado = \"../files/models/model.pkl.gz\"\n",
    "    \"\"\"Generic test to load a model\"\"\"\n",
    "    with gzip.open(ruta_guardado, \"rb\") as file:\n",
    "        model = pickle.load(file)\n",
    "    return model\n"
   ]
  },
  {
   "cell_type": "code",
   "execution_count": null,
   "metadata": {},
   "outputs": [],
   "source": [
    "modelo=_load_model()\n",
    "print(type(modelo))\n",
    "modelo"
   ]
  }
 ],
 "metadata": {
  "kernelspec": {
   "display_name": ".venv",
   "language": "python",
   "name": "python3"
  },
  "language_info": {
   "codemirror_mode": {
    "name": "ipython",
    "version": 3
   },
   "file_extension": ".py",
   "mimetype": "text/x-python",
   "name": "python",
   "nbconvert_exporter": "python",
   "pygments_lexer": "ipython3",
   "version": "3.10.11"
  }
 },
 "nbformat": 4,
 "nbformat_minor": 2
}
